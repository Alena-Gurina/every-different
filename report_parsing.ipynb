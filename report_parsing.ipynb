{
 "cells": [
  {
   "cell_type": "markdown",
   "metadata": {},
   "source": [
    "### Primery processing of tarean reports\n",
    "###### *Gurina Alena*"
   ]
  },
  {
   "cell_type": "markdown",
   "metadata": {},
   "source": [
    "Download libraries"
   ]
  },
  {
   "cell_type": "code",
   "execution_count": 1,
   "metadata": {},
   "outputs": [],
   "source": [
    "import os\n",
    "import pandas as pd\n",
    "import numpy as np\n",
    "import seaborn as sns\n",
    "import matplotlib.pyplot as plt"
   ]
  },
  {
   "cell_type": "markdown",
   "metadata": {},
   "source": [
    "Make list with all folders, where are tarean reports we need for analisis <br>\n",
    "And using os package, for each directory walking throught and collecting data about all files in each directory"
   ]
  },
  {
   "cell_type": "code",
   "execution_count": 2,
   "metadata": {},
   "outputs": [],
   "source": [
    "species = ['Phureja', 'Stenotomum', 'Goniocalyx', 'Ajanhuiri']\n",
    "list_files = []\n",
    "for spec in species:\n",
    "    a_generator = os.walk(spec)\n",
    "    for direct in a_generator:\n",
    "        list_files.append(direct)"
   ]
  },
  {
   "cell_type": "markdown",
   "metadata": {},
   "source": [
    "getting dataframe from tarean csv reports\n",
    "<ol>\n",
    "    <li> create empty dataframe</li>\n",
    "    <li> write name of column we need (because tarean report is too big)</li>\n",
    "    <li> part of tarean report called .cluster_info.csv, we use these part of report because it more convinient for handle (there is an example of tarean report file in folder `Tarean report example` </li>\n",
    "    <li> for each directory find report file, read it, drop columns we don`t need and add it too common dataframe, also collect information about species, sample and number of program launch (shot) </li>\n",
    "    <li> saving result because these step lasts quite long </li>"
   ]
  },
  {
   "cell_type": "code",
   "execution_count": 3,
   "metadata": {},
   "outputs": [],
   "source": [
    "all_df = pd.DataFrame()\n",
    "df_need = {'index', 'size', 'satellite_probability', 'TR_monomer_length', 'TR_consensus', 'image_file', \n",
    "           'html_tarean', 'loop_index', 'pair_completeness', 'TR_score', 'vcount', 'ecount', 'pbs_score', \n",
    "           'annotations_table', 'putative_tandem', 'satellite', 'tarean_contig_file', 'ltr_detection', 'tandem_rank'}\n",
    "for el in list_files:\n",
    "    if '.clusters_info.csv' in el[2]:\n",
    "        name = el[0].split('/')[-1].split('_')\n",
    "        df_name = \"./\" + el[0] + \"/\" + '.clusters_info.csv'\n",
    "        df_1 = pd.read_csv(df_name, sep = \"\\t\")\n",
    "        df_all_names = set(df_1.columns)\n",
    "        df_no_need = df_all_names - df_need\n",
    "        df_cut = df_1.drop(df_no_need, axis = 1)\n",
    "        df_cut['species'] = name[0][0:2]\n",
    "        df_cut['sample'] = name[0]\n",
    "        df_cut['shot'] = name[1]\n",
    "        all_df = all_df.append(df_cut, sort = False, ignore_index = True)\n",
    "#saving results\n",
    "#all_df.to_csv(\"all_clusters.csv\")"
   ]
  },
  {
   "cell_type": "markdown",
   "metadata": {},
   "source": [
    "I collect information from different specisies separatly, so next rows are useful if you need to combine undependantly collected tarean results"
   ]
  },
  {
   "cell_type": "code",
   "execution_count": 4,
   "metadata": {},
   "outputs": [],
   "source": [
    "df1 = pd.read_csv('sten_phu.csv')\n",
    "df2 = pd.read_csv('aj_gon.csv')\n",
    "all_df = df1.append(df2, ignore_index = True, sort = True)\n",
    "species = []\n",
    "for el in all_df['sample']:\n",
    "    species.append(el[0:2])\n",
    "all_df['species'] = species"
   ]
  },
  {
   "cell_type": "markdown",
   "metadata": {},
   "source": [
    "At with step we could collect information about some summary statistics like how many of each repeats type we get"
   ]
  },
  {
   "cell_type": "code",
   "execution_count": 5,
   "metadata": {},
   "outputs": [],
   "source": [
    "sum_x = pd.DataFrame(all_df.groupby(['species','tandem_rank'])['size'].count())"
   ]
  },
  {
   "cell_type": "raw",
   "metadata": {},
   "source": [
    "Then we don`t need in tandem rank 0 results, because it contain clusters with undefined repeats elements, and we haven`t theirs sequences, so we drop rows contain 0 type of repeats elements"
   ]
  },
  {
   "cell_type": "code",
   "execution_count": 6,
   "metadata": {},
   "outputs": [],
   "source": [
    "tand_df = all_df.drop(all_df[(all_df['TR_consensus'] == 'None')].index)"
   ]
  },
  {
   "cell_type": "markdown",
   "metadata": {},
   "source": [
    "to compare distribution of repetitive elements in different species, count mean number of repeats <br>\n",
    "*Dividing number - it is number of launch programm we have done for each species*"
   ]
  },
  {
   "cell_type": "code",
   "execution_count": 7,
   "metadata": {},
   "outputs": [],
   "source": [
    "sum_tandems = pd.DataFrame(tand_df.groupby(['species','tandem_rank'])['size'].count())\n",
    "sum_tandems.reset_index(inplace = True)\n",
    "repeats_for_one_sample = []\n",
    "for i in range(0, len(sum_tandems)):\n",
    "    if sum_tandems.loc[i]['species'] == 'Aj':\n",
    "        repeats_for_one_sample.append(sum_tandems.loc[i]['size']/5)\n",
    "    elif sum_tandems.loc[i]['species'] == 'Go':\n",
    "        repeats_for_one_sample.append(sum_tandems.loc[i]['size']/20)\n",
    "    elif sum_tandems.loc[i]['species'] == 'Ph':\n",
    "        repeats_for_one_sample.append(sum_tandems.loc[i]['size']/35)\n",
    "    elif sum_tandems.loc[i]['species'] == 'St':\n",
    "        repeats_for_one_sample.append(sum_tandems.loc[i]['size']/42)\n",
    "    else:\n",
    "        raise ValueError\n",
    "sum_tandems[\"mean_repeats\"] = repeats_for_one_sample"
   ]
  },
  {
   "cell_type": "code",
   "execution_count": 8,
   "metadata": {},
   "outputs": [
    {
     "data": {
      "text/plain": [
       "<Figure size 6000x4800 with 0 Axes>"
      ]
     },
     "metadata": {},
     "output_type": "display_data"
    },
    {
     "data": {
      "image/png": "[encoded data removed]",
      "text/plain": [
       "<Figure size 508.175x432 with 1 Axes>"
      ]
     },
     "metadata": {},
     "output_type": "display_data"
    }
   ],
   "source": [
    "plt.figure(figsize = (15,12), dpi = 400)\n",
    "sns.set(style=\"whitegrid\")\n",
    "g = sns.catplot(x=\"species\", y=\"mean_repeats\", hue = 'tandem_rank', data=sum_tandems,\n",
    "                height=6, kind=\"bar\", palette=\"muted\")\n",
    "g.despine(left=True)\n",
    "plt.title(\"Comparison of average number of repeats in different species\", pad = 2)\n",
    "plt.savefig(\"comparison_amount_repeats.png\")"
   ]
  },
  {
   "cell_type": "markdown",
   "metadata": {},
   "source": [
    "Next step is to compare sequences of different repetitive elements, but first we should preprocess it\n",
    "First of all we need to delete prefix from it (in tarean report there is *<pre> before and after sequence, so we need to delete them"
   ]
  },
  {
   "cell_type": "code",
   "execution_count": 9,
   "metadata": {},
   "outputs": [],
   "source": [
    "seq = []\n",
    "for el in list(tand_df.TR_consensus):\n",
    "    val = el.rstrip()[6:-5]\n",
    "    seq.append(val)\n",
    "tand_df['seq'] = seq\n",
    "tand_df = tand_df.drop(['image_file', 'ltr_detection','putative_tandem', 'tarean_contig_file', 'TR_consensus', 'html_tarean', 'Unnamed: 0'], axis = 1)"
   ]
  },
  {
   "cell_type": "markdown",
   "metadata": {},
   "source": [
    "Next we need to create uniq name for each sequence (It contain name of sample, name of shot and tarean cluster number\n",
    "And then we write fasta file to futher analysis"
   ]
  },
  {
   "cell_type": "code",
   "execution_count": 10,
   "metadata": {},
   "outputs": [],
   "source": [
    "cl_names = []\n",
    "for i in range(0,  len(tand_df)):\n",
    "    name = '>' + str(tand_df.iloc[i]['sample']) + str(tand_df.iloc[i]['shot']) + '_Cl' + str(tand_df.iloc[i]['index'])\n",
    "    cl_names.append(name[1:])\n",
    "    seq = str(tand_df.iloc[i]['seq'])\n",
    "    with open ('sequences_repeats.fasta', 'a') as output:\n",
    "        output.write(name + '\\n')\n",
    "        output.write(seq + '\\n')\n",
    "tand_df['cl_names'] = cl_names"
   ]
  },
  {
   "cell_type": "markdown",
   "metadata": {},
   "source": [
    "Saving results for futher analysis"
   ]
  },
  {
   "cell_type": "code",
   "execution_count": 11,
   "metadata": {},
   "outputs": [],
   "source": [
    "tand_df.to_csv(\"repeats_tandem.csv\")"
   ]
  }
 ],
 "metadata": {
  "kernelspec": {
   "display_name": "Python 3",
   "language": "python",
   "name": "python3"
  },
  "language_info": {
   "codemirror_mode": {
    "name": "ipython",
    "version": 3
   },
   "file_extension": ".py",
   "mimetype": "text/x-python",
   "name": "python",
   "nbconvert_exporter": "python",
   "pygments_lexer": "ipython3",
   "version": "3.8.2"
  }
 },
 "nbformat": 4,
 "nbformat_minor": 4
}
